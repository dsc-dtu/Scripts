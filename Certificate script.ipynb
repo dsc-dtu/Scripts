{
 "cells": [
  {
   "cell_type": "code",
   "execution_count": null,
   "metadata": {
    "collapsed": true
   },
   "outputs": [],
   "source": [
    "import pandas as pd\n",
    "from PIL import Image, ImageDraw, ImageFont"
   ]
  },
  {
   "cell_type": "code",
   "execution_count": null,
   "metadata": {
    "collapsed": true
   },
   "outputs": [],
   "source": [
    "df = pd.read_csv('feedback.csv')"
   ]
  },
  {
   "cell_type": "code",
   "execution_count": null,
   "metadata": {
    "collapsed": true
   },
   "outputs": [],
   "source": [
    "names = list(df['Name'])"
   ]
  },
  {
   "cell_type": "code",
   "execution_count": null,
   "metadata": {
    "collapsed": true
   },
   "outputs": [],
   "source": [
    "path = ''\n",
    "# create font object with the font file and specify\n",
    "# desired size\n",
    "\n",
    "font = ImageFont.truetype('arial.ttf', size=45)\n",
    "\n",
    "# starting position of the message\n",
    "for name in names:\n",
    "    image = Image.open('background.jpeg')\n",
    " \n",
    "    # initialise the drawing context with\n",
    "    # the image object as background\n",
    "\n",
    "    draw = ImageDraw.Draw(image)\n",
    "    message = name\n",
    "    color = 'rgb(0, 0, 0)' # black color\n",
    "    w, h = draw.textsize(message)\n",
    "    (x, y) = (528-w*2, 365)\n",
    "\n",
    "    # draw the message on the background\n",
    "\n",
    "    draw.text((x, y), message, fill=color, font=font)\n",
    "\n",
    "    # save the edited image\n",
    "\n",
    "    image.save(path+name+'.png')"
   ]
  }
 ],
 "metadata": {
  "kernelspec": {
   "display_name": "Python 3",
   "language": "python",
   "name": "python3"
  },
  "language_info": {
   "codemirror_mode": {
    "name": "ipython",
    "version": 3
   },
   "file_extension": ".py",
   "mimetype": "text/x-python",
   "name": "python",
   "nbconvert_exporter": "python",
   "pygments_lexer": "ipython3",
   "version": "3.6.6"
  }
 },
 "nbformat": 4,
 "nbformat_minor": 2
}
